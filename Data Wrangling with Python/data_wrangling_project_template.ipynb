{
 "cells": [
  {
   "cell_type": "code",
   "execution_count": null,
   "metadata": {
    "hideCode": true,
    "hidePrompt": true
   },
   "outputs": [],
   "source": []
  },
  {
   "cell_type": "markdown",
   "metadata": {
    "hideCode": true,
    "hidePrompt": true
   },
   "source": [
    "## Project: Data Wrangling using Pandas and Regex\n",
    "\n",
    "In this project you are asked __to implement__ and __perform a unit testing__ for a series of Python functions (Q1-Q13) that are typically required during the ***data wrangling*** phase of the end-to-end data science pipeline. A subset of unit testing functions is provided for you. You are expected to write unit testing for all the remaining functions.\n",
    "\n",
    "__Data Wrangling consists of the following main steps:__\n",
    "\n",
    "* Data Acquisition\n",
    "* Data Cleansing\n",
    "* Data Understanding: Basics\n",
    "* Data Manipulation\n",
    "  \n",
    "  \n",
    "__1. Data Acquisition Objectives__\n",
    "\n",
    "* Question 1: How to import multiples files for storage and access? (store filenames in array)\n",
    "* Question 2: How to import data in different formats? (read_excel, read_csv)\n",
    "* Question 2: How are they read into by pandas? (DataFrame)\n",
    "* Question 4: How to have a peek at the data after import? (head/tail)\n",
    "\n",
    "__2. Data Cleansing Objectives__\n",
    "\n",
    "* Question 5: Check attributes of each file\n",
    "* Question 5: Identify data types\n",
    "* Question 5: Apply coercion if applicable\n",
    "* Question 5: Check for NA/missing data\n",
    "* Question 6: Remove/replace corrupt data\n",
    "* Question 6: Identify duplicate data\n",
    "* Question 6: Check for corrupt/incorrect data  \n",
    "\n",
    "* Check for data consistency (e.g. GPA cannot be less than 0)\n",
    "* Identifying and removing outliers\n",
    "\n",
    "__3. Data Understanding Objectives__\n",
    "\n",
    "* Question 7: Basic Summary Statistics\n",
    "* Question 9: Dimensionality\n",
    "\n",
    "__4. Data Manipulation Objectives__\n",
    "\n",
    "* Question 11: Merge/Concatenate DataFrame\n",
    "* Question 11: Mapping to create a new attribute\n",
    "* Question 11: Incorporate the use of multiple functions\n",
    "* Question 12: Filter to subset the data\n",
    "* Question 13: Discretize data \n",
    "  \n",
    "  \n",
    "__Regular Expressions:__ *Regular expressions are used in conjunction with other preprocessing steps for matching/parsing patterns.*\n",
    "\n",
    "* Questions 2/5/6: Filter to subset the dataUse regular expressions to find/match specific content\n",
    "* Question 6: Filter to subset the dataString manipulation via. substring and replace methods"
   ]
  },
  {
   "cell_type": "markdown",
   "metadata": {
    "hideCode": true,
    "hidePrompt": true
   },
   "source": [
    "## Install Required Packages\n",
    "\n",
    "If you do not have Anaconda installed, then you may need to install the following packages using the following commands (Note: If you have Anaconda installed, then you already have Pandas and `regex`):\n",
    "\n",
    "> pip3 install pandas  \n",
    "  \n",
    "> pip3 install regex\n",
    "\n",
    "## INSTRUCTIONS: In all the functions, remove the `pass` statement and write your code."
   ]
  },
  {
   "cell_type": "code",
   "execution_count": 1,
   "metadata": {
    "hideCode": false,
    "hidePrompt": true
   },
   "outputs": [],
   "source": [
    "import pandas as pd\n",
    "import re\n",
    "import glob\n",
    "import copy\n",
    "import os\n",
    "import numpy as np\n",
    "import warnings\n",
    "warnings.simplefilter(\"ignore\")\n",
    "\n",
    "\n",
    "%matplotlib inline\n",
    "import matplotlib.pyplot as plt"
   ]
  },
  {
   "cell_type": "markdown",
   "metadata": {
    "hideCode": false,
    "hidePrompt": true
   },
   "source": [
    "### __Question 1: Write a function to import all excel file names into a list.__\n",
    "\n",
    "_Hint: Use the glob module._"
   ]
  },
  {
   "cell_type": "code",
   "execution_count": 2,
   "metadata": {
    "hideCode": false,
    "hidePrompt": true
   },
   "outputs": [
    {
     "name": "stdout",
     "output_type": "stream",
     "text": [
      "['./data_raw\\\\Python-QUIZ Coercion (6 min.)-grades.xlsx', './data_raw\\\\Python-QUIZ Conditionals (6 min.)-grades.xlsx', './data_raw\\\\Python-QUIZ Dictionaries (10 min.)-grades.xlsx', './data_raw\\\\Python-QUIZ Exceptions (10 min.)-grades.xlsx', './data_raw\\\\Python-QUIZ Functions (18 min.)-grades.xlsx', './data_raw\\\\Python-QUIZ Iterations (6 min.)-grades.xlsx', './data_raw\\\\Python-QUIZ Lists (10 min.)-grades.xlsx', './data_raw\\\\Python-QUIZ Sets (7 min)-grades.xlsx', './data_raw\\\\Python-QUIZ Strings (5 min.)-grades.xlsx', './data_raw\\\\Python-QUIZ Taxonomy of Python Data Structures (12 min.)-grades.xlsx', './data_raw\\\\Python-QUIZ Tuples (10 min.)-grades.xlsx', './data_raw\\\\~$Python-QUIZ Taxonomy of Python Data Structures (12 min.)-grades.xlsx']\n"
     ]
    }
   ],
   "source": [
    "def Q1_function():\n",
    "    \"\"\"\n",
    "    :type : None\n",
    "    :rtype: List[String]\n",
    "    \"\"\"\n",
    "    # TYPE YOUR CODE HERE\n",
    "    \n",
    "    \n",
    "    return glob.glob(\"./data_raw/*.xlsx\")\n",
    "    \n",
    "\n",
    "\n",
    "# Call the function and print the result. This result is used in subsequent questions.\n",
    "filenames = Q1_function()\n",
    "print(filenames)"
   ]
  },
  {
   "cell_type": "markdown",
   "metadata": {
    "hideCode": false,
    "hidePrompt": true
   },
   "source": [
    "### __Question 2: Write a function to return the name of the excel file based on a given string. *(The string is defined for you)*__  \n",
    "*Hints: Use the following.*\n",
    "* Regex 're.search' function.\n",
    "* Pandas function 'read_excel'"
   ]
  },
  {
   "cell_type": "code",
   "execution_count": 3,
   "metadata": {
    "hideCode": false,
    "hidePrompt": true
   },
   "outputs": [
    {
     "name": "stdout",
     "output_type": "stream",
     "text": [
      "./data_raw\\Python-QUIZ Dictionaries (10 min.)-grades.xlsx\n"
     ]
    }
   ],
   "source": [
    "def Q2_function(files, s):\n",
    "    \"\"\"\n",
    "    :type : List[String], String\n",
    "    :rtype: String\n",
    "    \"\"\"\n",
    "    # TYPE YOUR CODE HERE\n",
    "    for i in files:\n",
    "        if(re.search(s,i)):\n",
    "            return i\n",
    "    return None\n",
    "\n",
    "# Call the function and print the result. Use this to check the correctness of your code and for debugging.\n",
    "file = Q2_function(filenames, s = \"Dictionaries\")\n",
    "print(file)"
   ]
  },
  {
   "cell_type": "markdown",
   "metadata": {
    "hideCode": false,
    "hidePrompt": true
   },
   "source": [
    "### __Question 3: Write a function to load the \"Functions\" excel file into a Pandas DataFrame.__  \n",
    "*Hint: Remember you have executed functions in Questions 1 and 2. Try using them here. You can save some coding time!*  \n",
    "* Use the result from Question 1.\n",
    "* Use the function written in Question 2.\n",
    "* Use the Pandas function 'read_excel' to import an excel file."
   ]
  },
  {
   "cell_type": "code",
   "execution_count": 4,
   "metadata": {
    "hideCode": false,
    "hidePrompt": true
   },
   "outputs": [
    {
     "name": "stdout",
     "output_type": "stream",
     "text": [
      "       State                  Started on                   Completed  \\\n",
      "0   Finished    February 5 2018  3:19 PM    February 5 2018  3:34 PM   \n",
      "1   Finished    February 4 2018  4:01 PM    February 4 2018  4:19 PM   \n",
      "2   Finished    February 6 2018  3:57 PM    February 6 2018  4:12 PM   \n",
      "3   Finished   February 10 2018  4:05 PM   February 10 2018  4:23 PM   \n",
      "4   Finished    February 4 2018  4:59 PM    February 4 2018  5:16 PM   \n",
      "5   Finished    February 5 2018  5:20 PM    February 5 2018  5:38 PM   \n",
      "6   Finished   February 10 2018  9:49 PM  February 10 2018  10:07 PM   \n",
      "7   Finished    February 5 2018  8:30 PM    February 5 2018  8:48 PM   \n",
      "8   Finished   February 13 2018  4:17 AM   February 13 2018  4:35 AM   \n",
      "9   Finished   February 12 2018  2:19 PM   February 12 2018  2:35 PM   \n",
      "10  Finished  February 13 2018  10:45 AM  February 13 2018  11:03 AM   \n",
      "11  Finished   February 11 2018  1:48 AM   February 11 2018  2:06 AM   \n",
      "12  Finished    February 5 2018  5:20 PM    February 5 2018  5:38 PM   \n",
      "13  Finished   February 10 2018  9:49 PM  February 10 2018  10:07 PM   \n",
      "14  Finished   February 13 2018  7:07 PM   February 13 2018  7:20 PM   \n",
      "15  Finished    February 6 2018  3:57 PM    February 6 2018  4:12 PM   \n",
      "16  Finished    February 5 2018  6:52 PM    February 5 2018  7:10 PM   \n",
      "17  Finished  February 13 2018  11:33 AM  February 13 2018  11:51 AM   \n",
      "18  Finished   February 11 2018  3:39 PM   February 11 2018  3:57 PM   \n",
      "19  Finished    February 5 2018  8:30 PM    February 5 2018  8:48 PM   \n",
      "20  Finished   February 6 2018  10:41 AM   February 6 2018  11:30 AM   \n",
      "21  Finished   February 11 2018  4:20 PM   February 11 2018  4:38 PM   \n",
      "22  Finished   February 12 2018  7:52 PM   February 12 2018  8:07 PM   \n",
      "23  Finished   February 12 2018  2:19 PM   February 12 2018  2:35 PM   \n",
      "\n",
      "         Time taken  Grade/45.00  Q. 1 /5.00  Q. 2 /10.00  Q. 3 /6.00  \\\n",
      "0   14 mins 16 secs           32           5            6           6   \n",
      "1   17 mins 54 secs           31           5            8           6   \n",
      "2   15 mins 44 secs           20           3            4           3   \n",
      "3           18 mins           30           5            6           6   \n",
      "4   17 mins 31 secs           26           5            6           6   \n",
      "5   17 mins 59 secs           25           5            6           6   \n",
      "6           18 mins           24           5            6           6   \n",
      "7           18 mins           23           5            6           0   \n",
      "8     18 mins 1 sec           23           4            4           6   \n",
      "9   16 mins 44 secs           22           4            4           6   \n",
      "10    18 mins 1 sec           22           5            8           6   \n",
      "11          18 mins           21           5           10           6   \n",
      "12  17 mins 59 secs           25           5            6           6   \n",
      "13          18 mins           24           5            6           6   \n",
      "14  12 mins 59 secs           21           4            4           3   \n",
      "15  15 mins 44 secs           20           3            4           3   \n",
      "16    18 mins 1 sec           17           4            4           6   \n",
      "17          18 mins           17           5            4           3   \n",
      "18    18 mins 1 sec           16           3            6           3   \n",
      "19          18 mins           23           5            6           0   \n",
      "20  48 mins 39 secs           15           4            2           3   \n",
      "21    18 mins 1 sec           13           3            4           6   \n",
      "22  14 mins 31 secs           13           3            4           6   \n",
      "23  16 mins 44 secs           22           4            4           6   \n",
      "\n",
      "   Q. 4 /6.00 Q. 5 /12.00 Q. 6 /6.00  id  \n",
      "0        3.00       12.00       0.00   0  \n",
      "1           -       12.00       0.00   1  \n",
      "2           -       10.00       0.00  12  \n",
      "3        3.00       10.00          -   2  \n",
      "4        3.00        6.00       0.00   3  \n",
      "5        6.00        2.00       0.00   4  \n",
      "6        3.00        4.00          -   5  \n",
      "7        0.00        6.00       6.00   6  \n",
      "8        3.00        6.00       0.00   7  \n",
      "9        0.00        8.00       0.00   8  \n",
      "10       3.00           -          -   9  \n",
      "11          -           -          -  10  \n",
      "12       6.00        2.00       0.00   4  \n",
      "13       3.00        4.00          -   5  \n",
      "14       0.00        4.00       6.00  11  \n",
      "15          -       10.00       0.00  12  \n",
      "16       3.00        0.00          -  13  \n",
      "17       3.00        2.00       0.00  14  \n",
      "18       0.00        4.00          -  15  \n",
      "19       0.00        6.00       6.00   6  \n",
      "20       0.00        6.00       0.00  16  \n",
      "21          -           -          -  17  \n",
      "22       0.00        0.00       0.00  18  \n",
      "23       0.00        8.00       0.00   8  \n"
     ]
    }
   ],
   "source": [
    "def Q3_function(files, s):\n",
    "    \"\"\"\n",
    "    :type : List[String], String\n",
    "    :rtype: Pandas DataFrame\n",
    "    \"\"\"\n",
    "    # TYPE YOUR CODE HERE\n",
    "    \n",
    "    req_file = Q2_function(files,s)\n",
    "    df = pd.read_excel(req_file)\n",
    "    df = df.loc[:, ~df.columns.str.contains('^Unnamed')]\n",
    "    return df\n",
    "\n",
    "\n",
    "# Call the function and print the result. This result is used in subsequent questions.\n",
    "functions_df = Q3_function(filenames, s = \"Functions\")\n",
    "print(functions_df)\n",
    "# functions_df.head(3)"
   ]
  },
  {
   "cell_type": "markdown",
   "metadata": {
    "hideCode": false,
    "hidePrompt": true
   },
   "source": [
    "### __Question 4: Using the output obtained in Question 3 as input for the current question, write a function to do the following.__  \n",
    "* Find all the names of the columns and return as a list.\n",
    "* Find the subset of the DataFrame (use `df.loc`) and return the new DataFrame. Include the following columns:   \n",
    "_\"id\", \"Time taken\", \"Grade/45.00\", \"Q. 1 /5.00\", \"Q. 2 /10.00\", \"Q. 3 /6.00\", \"Q. 4 /6.00\", \"Q. 5 /12.00\", \"Q. 6 /6.00\"_\n",
    "* Return the top 10 rows (use `df.head function`).\n",
    "\n",
    "Learn about returning multiple values in Python."
   ]
  },
  {
   "cell_type": "code",
   "execution_count": 5,
   "metadata": {
    "hideCode": false,
    "hidePrompt": true
   },
   "outputs": [
    {
     "name": "stdout",
     "output_type": "stream",
     "text": [
      "Column Names\n",
      "['State', 'Started on', 'Completed', 'Time taken', 'Grade/45.00', 'Q. 1 /5.00', 'Q. 2 /10.00', 'Q. 3 /6.00', 'Q. 4 /6.00', 'Q. 5 /12.00', 'Q. 6 /6.00', 'id']\n",
      "\n",
      "Subsetted Data\n",
      "    id       Time taken  Grade/45.00  Q. 1 /5.00  Q. 2 /10.00  Q. 3 /6.00  \\\n",
      "0    0  14 mins 16 secs           32           5            6           6   \n",
      "1    1  17 mins 54 secs           31           5            8           6   \n",
      "2   12  15 mins 44 secs           20           3            4           3   \n",
      "3    2          18 mins           30           5            6           6   \n",
      "4    3  17 mins 31 secs           26           5            6           6   \n",
      "5    4  17 mins 59 secs           25           5            6           6   \n",
      "6    5          18 mins           24           5            6           6   \n",
      "7    6          18 mins           23           5            6           0   \n",
      "8    7    18 mins 1 sec           23           4            4           6   \n",
      "9    8  16 mins 44 secs           22           4            4           6   \n",
      "10   9    18 mins 1 sec           22           5            8           6   \n",
      "11  10          18 mins           21           5           10           6   \n",
      "12   4  17 mins 59 secs           25           5            6           6   \n",
      "13   5          18 mins           24           5            6           6   \n",
      "14  11  12 mins 59 secs           21           4            4           3   \n",
      "15  12  15 mins 44 secs           20           3            4           3   \n",
      "16  13    18 mins 1 sec           17           4            4           6   \n",
      "17  14          18 mins           17           5            4           3   \n",
      "18  15    18 mins 1 sec           16           3            6           3   \n",
      "19   6          18 mins           23           5            6           0   \n",
      "20  16  48 mins 39 secs           15           4            2           3   \n",
      "21  17    18 mins 1 sec           13           3            4           6   \n",
      "22  18  14 mins 31 secs           13           3            4           6   \n",
      "23   8  16 mins 44 secs           22           4            4           6   \n",
      "\n",
      "   Q. 4 /6.00 Q. 5 /12.00 Q. 6 /6.00  \n",
      "0        3.00       12.00       0.00  \n",
      "1           -       12.00       0.00  \n",
      "2           -       10.00       0.00  \n",
      "3        3.00       10.00          -  \n",
      "4        3.00        6.00       0.00  \n",
      "5        6.00        2.00       0.00  \n",
      "6        3.00        4.00          -  \n",
      "7        0.00        6.00       6.00  \n",
      "8        3.00        6.00       0.00  \n",
      "9        0.00        8.00       0.00  \n",
      "10       3.00           -          -  \n",
      "11          -           -          -  \n",
      "12       6.00        2.00       0.00  \n",
      "13       3.00        4.00          -  \n",
      "14       0.00        4.00       6.00  \n",
      "15          -       10.00       0.00  \n",
      "16       3.00        0.00          -  \n",
      "17       3.00        2.00       0.00  \n",
      "18       0.00        4.00          -  \n",
      "19       0.00        6.00       6.00  \n",
      "20       0.00        6.00       0.00  \n",
      "21          -           -          -  \n",
      "22       0.00        0.00       0.00  \n",
      "23       0.00        8.00       0.00  \n",
      "\n",
      "Top 10 Rows\n",
      "      State                 Started on                   Completed  \\\n",
      "0  Finished   February 5 2018  3:19 PM    February 5 2018  3:34 PM   \n",
      "1  Finished   February 4 2018  4:01 PM    February 4 2018  4:19 PM   \n",
      "2  Finished   February 6 2018  3:57 PM    February 6 2018  4:12 PM   \n",
      "3  Finished  February 10 2018  4:05 PM   February 10 2018  4:23 PM   \n",
      "4  Finished   February 4 2018  4:59 PM    February 4 2018  5:16 PM   \n",
      "5  Finished   February 5 2018  5:20 PM    February 5 2018  5:38 PM   \n",
      "6  Finished  February 10 2018  9:49 PM  February 10 2018  10:07 PM   \n",
      "7  Finished   February 5 2018  8:30 PM    February 5 2018  8:48 PM   \n",
      "8  Finished  February 13 2018  4:17 AM   February 13 2018  4:35 AM   \n",
      "9  Finished  February 12 2018  2:19 PM   February 12 2018  2:35 PM   \n",
      "\n",
      "        Time taken  Grade/45.00  Q. 1 /5.00  Q. 2 /10.00  Q. 3 /6.00  \\\n",
      "0  14 mins 16 secs           32           5            6           6   \n",
      "1  17 mins 54 secs           31           5            8           6   \n",
      "2  15 mins 44 secs           20           3            4           3   \n",
      "3          18 mins           30           5            6           6   \n",
      "4  17 mins 31 secs           26           5            6           6   \n",
      "5  17 mins 59 secs           25           5            6           6   \n",
      "6          18 mins           24           5            6           6   \n",
      "7          18 mins           23           5            6           0   \n",
      "8    18 mins 1 sec           23           4            4           6   \n",
      "9  16 mins 44 secs           22           4            4           6   \n",
      "\n",
      "  Q. 4 /6.00 Q. 5 /12.00 Q. 6 /6.00  id  \n",
      "0       3.00       12.00       0.00   0  \n",
      "1          -       12.00       0.00   1  \n",
      "2          -       10.00       0.00  12  \n",
      "3       3.00       10.00          -   2  \n",
      "4       3.00        6.00       0.00   3  \n",
      "5       6.00        2.00       0.00   4  \n",
      "6       3.00        4.00          -   5  \n",
      "7       0.00        6.00       6.00   6  \n",
      "8       3.00        6.00       0.00   7  \n",
      "9       0.00        8.00       0.00   8  \n"
     ]
    }
   ],
   "source": [
    "def Q4_function(dataframe):\n",
    "    \"\"\"\n",
    "    :type : DataFrame\n",
    "    :rtype: [String], DataFrame, DataFrame\n",
    "    \"\"\"\n",
    "    # TYPE YOUR CODE HERE\n",
    "    \n",
    "    dataframe = dataframe.loc[:, ~dataframe.columns.str.contains('^Unnamed')]\n",
    "    col_names = list(dataframe)\n",
    "    df_subset = dataframe.loc[:,[\"id\", \"Time taken\", \"Grade/45.00\", \"Q. 1 /5.00\", \"Q. 2 /10.00\", \"Q. 3 /6.00\", \"Q. 4 /6.00\", \"Q. 5 /12.00\", \"Q. 6 /6.00\"]]\n",
    "    \n",
    "    top_10 = dataframe.head(10)\n",
    "    \n",
    "    return(col_names,df_subset,top_10)\n",
    "\n",
    "\n",
    "# Call the function and print the results. These results are used in subsequent questions.\n",
    "names, df_subset, top_10 = Q4_function(functions_df)\n",
    "\n",
    "print(\"Column Names\")\n",
    "print(names)\n",
    "print()\n",
    "print(\"Subsetted Data\")\n",
    "print(df_subset)\n",
    "print()\n",
    "print(\"Top 10 Rows\")\n",
    "print(top_10)"
   ]
  },
  {
   "cell_type": "markdown",
   "metadata": {
    "hideCode": false,
    "hidePrompt": true
   },
   "source": [
    "### Question 5: Using the subsetted DataFrame from the previous question, complete the following tasks.\n",
    "\n",
    "* Identify the data type of every column. Return as a list. *(read about dtypes)*\n",
    "* Strip all white spaces from the columns. \n",
    "    + try using list comprehension along with the 'sub' function in 're' module\n",
    "* Check if 'Time taken' column has NA or empty values:\n",
    "    + use `df.isnull().any()`. \n",
    "    + If YES, replace with 0: use `df.fillna()`.\n",
    "* Using `regex` (`re.search`), convert the 'Time taken' column into seconds (int) and store in a new column called 'time' (e.g., convert __2 mins 10 secs__ into __130__. Note that to get 130, you need to do some math. Use coersion to convert str to int.\n",
    "* Return the DataFrame with 'Time taken' column dropped."
   ]
  },
  {
   "cell_type": "code",
   "execution_count": 6,
   "metadata": {
    "hideCode": false,
    "hidePrompt": true
   },
   "outputs": [
    {
     "name": "stdout",
     "output_type": "stream",
     "text": [
      "Column Datatypes\n",
      "['int64', 'object', 'int64', 'int64', 'int64', 'int64', 'object', 'object', 'object']\n",
      "\n",
      "New Update DataFrame\n",
      "    id  Grade/45.00  Q.1/5.00  Q.2/10.00  Q.3/6.00 Q.4/6.00 Q.5/12.00  \\\n",
      "0    0           32         5          6         6     3.00     12.00   \n",
      "1    1           31         5          8         6        -     12.00   \n",
      "2   12           20         3          4         3        -     10.00   \n",
      "3    2           30         5          6         6     3.00     10.00   \n",
      "4    3           26         5          6         6     3.00      6.00   \n",
      "5    4           25         5          6         6     6.00      2.00   \n",
      "6    5           24         5          6         6     3.00      4.00   \n",
      "7    6           23         5          6         0     0.00      6.00   \n",
      "8    7           23         4          4         6     3.00      6.00   \n",
      "9    8           22         4          4         6     0.00      8.00   \n",
      "10   9           22         5          8         6     3.00         -   \n",
      "11  10           21         5         10         6        -         -   \n",
      "12   4           25         5          6         6     6.00      2.00   \n",
      "13   5           24         5          6         6     3.00      4.00   \n",
      "14  11           21         4          4         3     0.00      4.00   \n",
      "15  12           20         3          4         3        -     10.00   \n",
      "16  13           17         4          4         6     3.00      0.00   \n",
      "17  14           17         5          4         3     3.00      2.00   \n",
      "18  15           16         3          6         3     0.00      4.00   \n",
      "19   6           23         5          6         0     0.00      6.00   \n",
      "20  16           15         4          2         3     0.00      6.00   \n",
      "21  17           13         3          4         6        -         -   \n",
      "22  18           13         3          4         6     0.00      0.00   \n",
      "23   8           22         4          4         6     0.00      8.00   \n",
      "\n",
      "   Q.6/6.00  time  \n",
      "0      0.00   856  \n",
      "1      0.00  1074  \n",
      "2      0.00   944  \n",
      "3         -  1080  \n",
      "4      0.00  1051  \n",
      "5      0.00  1079  \n",
      "6         -  1080  \n",
      "7      6.00  1080  \n",
      "8      0.00  1080  \n",
      "9      0.00  1004  \n",
      "10        -  1080  \n",
      "11        -  1080  \n",
      "12     0.00  1079  \n",
      "13        -  1080  \n",
      "14     6.00   779  \n",
      "15     0.00   944  \n",
      "16        -  1080  \n",
      "17     0.00  1080  \n",
      "18        -  1080  \n",
      "19     6.00  1080  \n",
      "20     0.00  2919  \n",
      "21        -  1080  \n",
      "22     0.00   871  \n",
      "23     0.00  1004  \n"
     ]
    }
   ],
   "source": [
    "def Q5_function(df):\n",
    "    \n",
    "    \"\"\"\n",
    "    :type : DataFrame\n",
    "    :rtype: [String], DataFrame\n",
    "    \"\"\"\n",
    "    # TYPE YOUR CODE HERE\n",
    "    new_col = []\n",
    "    for col in df.columns:\n",
    "        col_stripped = re.sub(\"\\s+\", r\"\", col)\n",
    "        new_col.append(col_stripped)\n",
    "    \n",
    "    column_data_types = []\n",
    "    for col_type in df.dtypes:\n",
    "        column_data_types.append(str(col_type))\n",
    "    \n",
    "    \n",
    "    df.columns = new_col\n",
    "    \n",
    "    #Replacing NA/empty values with zero\n",
    "    if df['Timetaken'].isnull().any() or df['Timetaken'].isna().any():\n",
    "        df['Timetaken'].fillna(0)\n",
    "    \n",
    "    \n",
    "    #Converting time into secs\n",
    "    new_time = []\n",
    "    for row in df['Timetaken']:\n",
    "        min = re.search('([0-9]|[0-5][0-9]) mins',str(row))\n",
    "        if min:\n",
    "            min_time = int(min.group(0).split(' mins')[0]) * 60\n",
    "        else:\n",
    "            min_time = 0\n",
    "        sec = re.search('([0-9]|[0-5][0-9]) secs',str(row))\n",
    "        if sec:\n",
    "            sec_time = int(sec.group(0).split(' secs')[0])\n",
    "        else:\n",
    "            sec_time = 0\n",
    "        new_time.append(min_time + sec_time)\n",
    "    \n",
    "    #Adding new column time and dropping column Timetaken\n",
    "    df['time'] = new_time\n",
    "    df = df.drop(\"Timetaken\",axis=1)\n",
    "    return column_data_types,df\n",
    "\n",
    "# Call the function and print the results. These results are used in subsequent questions.\n",
    "column_types, Q5_df = Q5_function(df_subset)\n",
    "print(\"Column Datatypes\")\n",
    "print(column_types)\n",
    "print()\n",
    "print(\"New Update DataFrame\")\n",
    "print(Q5_df)"
   ]
  },
  {
   "cell_type": "markdown",
   "metadata": {
    "hideCode": false,
    "hidePrompt": true
   },
   "source": [
    "### Question 6: Using the returned DataFrame from the previous question, complete the following tasks.\n",
    "\n",
    "* Some columns might need to be converted to integer for the subsequent tasks. Identify which columns and convert them to int/float.\n",
    "* Are there any duplicate rows? Remove them from the DataFrame.\n",
    "* Data collected might be corrupt. Check whether data is missing or corrupt. Data is missing if there is a '-'. If missing data exists, replace with the mean of other values.\n",
    "* With the above point in mind, find the mean values of all columns except 'id'. Append these as a row to your dataframe and return\n",
    "\n",
    "*Hint: Note that the maximum marks for each column is different. Make sure you parse the information from the column name.*"
   ]
  },
  {
   "cell_type": "code",
   "execution_count": 7,
   "metadata": {
    "hideCode": false,
    "hidePrompt": true
   },
   "outputs": [
    {
     "name": "stdout",
     "output_type": "stream",
     "text": [
      "        id  Grade/45.00  Q.1/5.00  Q.2/10.00  Q.3/6.00  Q.4/6.00  Q.5/12.00  \\\n",
      "0      0.0    32.000000  5.000000   6.000000  6.000000  3.000000  12.000000   \n",
      "1      1.0    31.000000  5.000000   8.000000  6.000000  2.052632  12.000000   \n",
      "2     12.0    20.000000  3.000000   4.000000  3.000000  2.052632  10.000000   \n",
      "3      2.0    30.000000  5.000000   6.000000  6.000000  3.000000  10.000000   \n",
      "4      3.0    26.000000  5.000000   6.000000  6.000000  3.000000   6.000000   \n",
      "5      4.0    25.000000  5.000000   6.000000  6.000000  6.000000   2.000000   \n",
      "6      5.0    24.000000  5.000000   6.000000  6.000000  3.000000   4.000000   \n",
      "7      6.0    23.000000  5.000000   6.000000  0.000000  0.000000   6.000000   \n",
      "8      7.0    23.000000  4.000000   4.000000  6.000000  3.000000   6.000000   \n",
      "9      8.0    22.000000  4.000000   4.000000  6.000000  0.000000   8.000000   \n",
      "10     9.0    22.000000  5.000000   8.000000  6.000000  3.000000   5.809524   \n",
      "11    10.0    21.000000  5.000000  10.000000  6.000000  2.052632   5.809524   \n",
      "14    11.0    21.000000  4.000000   4.000000  3.000000  0.000000   4.000000   \n",
      "16    13.0    17.000000  4.000000   4.000000  6.000000  3.000000   0.000000   \n",
      "17    14.0    17.000000  5.000000   4.000000  3.000000  3.000000   2.000000   \n",
      "18    15.0    16.000000  3.000000   6.000000  3.000000  0.000000   4.000000   \n",
      "20    16.0    15.000000  4.000000   2.000000  3.000000  0.000000   6.000000   \n",
      "21    17.0    13.000000  3.000000   4.000000  6.000000  2.052632   5.809524   \n",
      "22    18.0    13.000000  3.000000   4.000000  6.000000  0.000000   0.000000   \n",
      "mean  19.0    21.631579  4.315789   5.368421  4.894737  2.011080   5.759398   \n",
      "\n",
      "      Q.6/6.00         time  \n",
      "0     0.000000   856.000000  \n",
      "1     0.000000  1074.000000  \n",
      "2     0.000000   944.000000  \n",
      "3     1.125000  1080.000000  \n",
      "4     0.000000  1051.000000  \n",
      "5     0.000000  1079.000000  \n",
      "6     1.125000  1080.000000  \n",
      "7     6.000000  1080.000000  \n",
      "8     0.000000  1080.000000  \n",
      "9     0.000000  1004.000000  \n",
      "10    1.125000  1080.000000  \n",
      "11    1.125000  1080.000000  \n",
      "14    6.000000   779.000000  \n",
      "16    1.125000  1080.000000  \n",
      "17    0.000000  1080.000000  \n",
      "18    1.125000  1080.000000  \n",
      "20    0.000000  2919.000000  \n",
      "21    1.125000  1080.000000  \n",
      "22    0.000000   871.000000  \n",
      "mean  1.046053  1125.105263  \n"
     ]
    }
   ],
   "source": [
    "def Q6_function(df):\n",
    "    \n",
    "    \"\"\"\n",
    "    :type : DataFrame\n",
    "    :rtype: DataFrame\n",
    "    \"\"\"\n",
    "    # TYPE YOUR CODE HERE\n",
    "    \n",
    "    #converting to numeric data-type\n",
    "    for i in df.columns:\n",
    "        if df[i].dtype != 'int64':\n",
    "            df[i] = pd.to_numeric(df[i], errors='coerce')\n",
    "        df[i] = df[i].fillna(df[i].mean())\n",
    "     \n",
    "    #dropping duplicate rows\n",
    "    df = df.drop_duplicates()\n",
    "    \n",
    "    #return means\n",
    "    df.loc['mean'] = df.mean()\n",
    "    df.loc['mean','id'] = max(df['id']) + 1\n",
    "    \n",
    "    return(df)\n",
    "        \n",
    "\n",
    "\n",
    "# Call the function and print the results.\n",
    "temp_df = copy.copy(Q5_df)\n",
    "Q6_df = Q6_function(temp_df)\n",
    "print(Q6_df)"
   ]
  },
  {
   "cell_type": "markdown",
   "metadata": {
    "hideCode": false,
    "hidePrompt": true
   },
   "source": [
    "### Question 7: Use previously created functions to load the 'Exceptions' dataset as a dataframe\n",
    "\n",
    "* Calculate the mean of the total grade obtained by the students.\n",
    "* Calculate the standard deviation of the total grade obtained by the students.\n",
    "* Calculate Q1,Q2 and Q3 (quantiles) for the total grade.\n",
    "* Find the maximum and minimum values for the total grade\n",
    "\n",
    "* Return all values rounded to 2 decimal places\n",
    "\n",
    "*Hint: Use the df.describe function*"
   ]
  },
  {
   "cell_type": "code",
   "execution_count": 8,
   "metadata": {
    "hideCode": false,
    "hidePrompt": true
   },
   "outputs": [
    {
     "name": "stdout",
     "output_type": "stream",
     "text": [
      "Mean: 14.83\n",
      "Std. Dev.: 2.19\n",
      "First Quantile 13.46\n",
      "Second Quantile 14.66\n",
      "Third Quantile 16.62\n",
      "Max: 18.5\n",
      "Min: 10.83\n"
     ]
    }
   ],
   "source": [
    "def Q7_function(file):\n",
    "    \"\"\"\n",
    "    :type : String\n",
    "    :rtype: Float\n",
    "    \"\"\"\n",
    "    # TYPE YOUR CODE HERE\n",
    "   \n",
    "    exceptions_df = Q3_function(filenames,file)\n",
    "    #print(\"df of excep:\",exceptions_df)\n",
    "    \n",
    "    mean_grade = exceptions_df[\"Grade/21.00\"].describe()['mean'].round(2)\n",
    "    std_dev_grade = exceptions_df[\"Grade/21.00\"].describe()['std'].round(2)\n",
    "    first_quantile_grade = exceptions_df[\"Grade/21.00\"].describe()['25%'].round(2)\n",
    "    second_quantile_grade = exceptions_df[\"Grade/21.00\"].describe()['50%'].round(2)\n",
    "    third_quantile_grade = exceptions_df[\"Grade/21.00\"].describe()['75%'].round(2)\n",
    "    max_grade = exceptions_df[\"Grade/21.00\"].describe()['max'].round(2)\n",
    "    min_grade = exceptions_df[\"Grade/21.00\"].describe()['min'].round(2)\n",
    "   \n",
    "    \n",
    "    return(mean_grade,std_dev_grade,first_quantile_grade,second_quantile_grade,third_quantile_grade,max_grade,min_grade)\n",
    "\n",
    "# Call the function and print the results.\n",
    "mean_,std_,q1,q2,q3,max_,min_ = Q7_function(file=\"Exceptions\")\n",
    "print(\"Mean:\", mean_)\n",
    "print(\"Std. Dev.:\", std_)\n",
    "print(\"First Quantile\", q1)\n",
    "print(\"Second Quantile\", q2)\n",
    "print(\"Third Quantile\", q3)\n",
    "print(\"Max:\", max_)\n",
    "print(\"Min:\", min_)"
   ]
  },
  {
   "cell_type": "markdown",
   "metadata": {
    "hideCode": false,
    "hidePrompt": true
   },
   "source": [
    "### Question 8: Create a boxplot of the grade distribution in the 'Exceptions' dataset.\n",
    "\n",
    "* Compare the plot lines to the values calculated in the previous question.\n",
    "* Use df.plot.box function."
   ]
  },
  {
   "cell_type": "code",
   "execution_count": 9,
   "metadata": {
    "hideCode": false,
    "hidePrompt": true,
    "scrolled": true
   },
   "outputs": [
    {
     "data": {
      "text/plain": [
       "<matplotlib.axes._subplots.AxesSubplot at 0x1fb13aee708>"
      ]
     },
     "execution_count": 9,
     "metadata": {},
     "output_type": "execute_result"
    },
    {
     "data": {
      "image/png": "[encoded data removed]",
      "text/plain": [
       "<Figure size 432x288 with 1 Axes>"
      ]
     },
     "metadata": {
      "needs_background": "light"
     },
     "output_type": "display_data"
    }
   ],
   "source": [
    "def Q8_function(file):\n",
    "    \n",
    "    \"\"\"\n",
    "    :type : String\n",
    "    :rtype: Plot\n",
    "    \"\"\"\n",
    "    \n",
    "    df = Q3_function(filenames, file)\n",
    "    Q8_plot = df[['Grade/21.00']].plot.box(return_type='axes')\n",
    "    \n",
    "    return Q8_plot\n",
    "\n",
    "\n",
    "# Call the function. Plot will display.\n",
    "Q8_function(file='Exceptions')"
   ]
  },
  {
   "cell_type": "markdown",
   "metadata": {
    "hideCode": false,
    "hidePrompt": true
   },
   "source": [
    "### Question 9: Return the number of rows and columns present in the 'Strings' dataset\n",
    "\n",
    "* Use the `df.shape` attribute."
   ]
  },
  {
   "cell_type": "code",
   "execution_count": 10,
   "metadata": {
    "hideCode": false,
    "hidePrompt": true
   },
   "outputs": [
    {
     "name": "stdout",
     "output_type": "stream",
     "text": [
      "Rows: 17\n",
      "Columns: 7\n"
     ]
    }
   ],
   "source": [
    "def Q9_function(file):\n",
    "    \n",
    "    \"\"\"\n",
    "    :type : String\n",
    "    :rtype: list\n",
    "    \"\"\" \n",
    "    # TYPE YOUR CODE HERE\n",
    "    \n",
    "    strings_df = Q3_function(filenames,file)\n",
    "    strings_df = strings_df.loc[:, ~strings_df.columns.str.contains('^Unnamed')]\n",
    "    rows = strings_df.shape[0]\n",
    "    columns = strings_df.shape[1]\n",
    "    return (rows,columns)\n",
    "\n",
    "\n",
    "# Call the function and print the results\n",
    "rows, columns = Q9_function (file='Strings')\n",
    "print(\"Rows:\",rows)\n",
    "print(\"Columns:\",columns)"
   ]
  },
  {
   "cell_type": "markdown",
   "metadata": {
    "hideCode": false,
    "hidePrompt": true
   },
   "source": [
    "### Question 10: Use the output from Question 5. Group the students based on their score in 'Q. 5 /12.00' column\n",
    "\n",
    "* Which students scored 0 \n",
    "* How many students achieved the maximum possible score\n",
    "* Consider NA/missing values as 0\n",
    "\n",
    "*Hint : Use groupby function.*\n"
   ]
  },
  {
   "cell_type": "code",
   "execution_count": 12,
   "metadata": {
    "hideCode": false,
    "hidePrompt": true
   },
   "outputs": [
    {
     "ename": "KeyError",
     "evalue": "0.0",
     "output_type": "error",
     "traceback": [
      "\u001b[1;31m---------------------------------------------------------------------------\u001b[0m",
      "\u001b[1;31mKeyError\u001b[0m                                  Traceback (most recent call last)",
      "\u001b[1;32m<ipython-input-12-fbce32a04de1>\u001b[0m in \u001b[0;36m<module>\u001b[1;34m\u001b[0m\n\u001b[0;32m     20\u001b[0m \u001b[1;33m\u001b[0m\u001b[0m\n\u001b[0;32m     21\u001b[0m \u001b[1;31m# Call the function and print the results\u001b[0m\u001b[1;33m\u001b[0m\u001b[1;33m\u001b[0m\u001b[1;33m\u001b[0m\u001b[0m\n\u001b[1;32m---> 22\u001b[1;33m \u001b[0mzero\u001b[0m\u001b[1;33m,\u001b[0m \u001b[0mmaximum\u001b[0m \u001b[1;33m=\u001b[0m \u001b[0mQ10_function\u001b[0m\u001b[1;33m(\u001b[0m\u001b[0mQ5_df\u001b[0m\u001b[1;33m)\u001b[0m\u001b[1;33m\u001b[0m\u001b[1;33m\u001b[0m\u001b[0m\n\u001b[0m\u001b[0;32m     23\u001b[0m \u001b[0mprint\u001b[0m\u001b[1;33m(\u001b[0m\u001b[1;34m\"Students scoring zero :\"\u001b[0m\u001b[1;33m,\u001b[0m\u001b[0mzero\u001b[0m\u001b[1;33m)\u001b[0m\u001b[1;33m\u001b[0m\u001b[1;33m\u001b[0m\u001b[0m\n\u001b[0;32m     24\u001b[0m \u001b[0mprint\u001b[0m\u001b[1;33m(\u001b[0m\u001b[1;34m\"Number of students with maximum score :\"\u001b[0m\u001b[1;33m,\u001b[0m\u001b[0mmaximum\u001b[0m\u001b[1;33m)\u001b[0m\u001b[1;33m\u001b[0m\u001b[1;33m\u001b[0m\u001b[0m\n",
      "\u001b[1;32m<ipython-input-12-fbce32a04de1>\u001b[0m in \u001b[0;36mQ10_function\u001b[1;34m(df)\u001b[0m\n\u001b[0;32m      6\u001b[0m     \"\"\" \n\u001b[0;32m      7\u001b[0m     \u001b[1;31m# TYPE YOUR CODE HERE\u001b[0m\u001b[1;33m\u001b[0m\u001b[1;33m\u001b[0m\u001b[1;33m\u001b[0m\u001b[0m\n\u001b[1;32m----> 8\u001b[1;33m     \u001b[1;32mreturn\u001b[0m \u001b[0msorted\u001b[0m\u001b[1;33m(\u001b[0m\u001b[0mlist\u001b[0m\u001b[1;33m(\u001b[0m\u001b[0mdf\u001b[0m\u001b[1;33m.\u001b[0m\u001b[0mgroupby\u001b[0m\u001b[1;33m(\u001b[0m\u001b[1;33m[\u001b[0m\u001b[1;34m'Q.5/12.00'\u001b[0m\u001b[1;33m]\u001b[0m\u001b[1;33m)\u001b[0m\u001b[1;33m.\u001b[0m\u001b[0mget_group\u001b[0m\u001b[1;33m(\u001b[0m\u001b[1;36m0.0\u001b[0m\u001b[1;33m)\u001b[0m\u001b[1;33m[\u001b[0m\u001b[1;34m'id'\u001b[0m\u001b[1;33m]\u001b[0m\u001b[1;33m)\u001b[0m \u001b[1;33m+\u001b[0m \u001b[0mlist\u001b[0m\u001b[1;33m(\u001b[0m\u001b[0mdf\u001b[0m\u001b[1;33m[\u001b[0m\u001b[0mdf\u001b[0m\u001b[1;33m[\u001b[0m\u001b[1;34m'Q.5/12.00'\u001b[0m\u001b[1;33m]\u001b[0m\u001b[1;33m.\u001b[0m\u001b[0misnull\u001b[0m\u001b[1;33m(\u001b[0m\u001b[1;33m)\u001b[0m\u001b[1;33m]\u001b[0m\u001b[1;33m[\u001b[0m\u001b[1;34m'id'\u001b[0m\u001b[1;33m]\u001b[0m\u001b[1;33m)\u001b[0m\u001b[1;33m)\u001b[0m\u001b[1;33m,\u001b[0m\u001b[0;31m\\\u001b[0m\u001b[1;33m\u001b[0m\u001b[1;33m\u001b[0m\u001b[0m\n\u001b[0m\u001b[0;32m      9\u001b[0m     \u001b[0mdf\u001b[0m\u001b[1;33m.\u001b[0m\u001b[0mgroupby\u001b[0m\u001b[1;33m(\u001b[0m\u001b[1;33m[\u001b[0m\u001b[1;34m'Q.5/12.00'\u001b[0m\u001b[1;33m]\u001b[0m\u001b[1;33m)\u001b[0m\u001b[1;33m.\u001b[0m\u001b[0mget_group\u001b[0m\u001b[1;33m(\u001b[0m\u001b[1;36m12.0\u001b[0m\u001b[1;33m)\u001b[0m\u001b[1;33m.\u001b[0m\u001b[0mcount\u001b[0m\u001b[1;33m(\u001b[0m\u001b[1;33m)\u001b[0m\u001b[1;33m[\u001b[0m\u001b[1;34m'id'\u001b[0m\u001b[1;33m]\u001b[0m\u001b[1;33m\u001b[0m\u001b[1;33m\u001b[0m\u001b[0m\n\u001b[0;32m     10\u001b[0m \u001b[1;33m\u001b[0m\u001b[0m\n",
      "\u001b[1;32m~\\Anaconda3\\lib\\site-packages\\pandas\\core\\groupby\\groupby.py\u001b[0m in \u001b[0;36mget_group\u001b[1;34m(self, name, obj)\u001b[0m\n\u001b[0;32m    678\u001b[0m         \u001b[0minds\u001b[0m \u001b[1;33m=\u001b[0m \u001b[0mself\u001b[0m\u001b[1;33m.\u001b[0m\u001b[0m_get_index\u001b[0m\u001b[1;33m(\u001b[0m\u001b[0mname\u001b[0m\u001b[1;33m)\u001b[0m\u001b[1;33m\u001b[0m\u001b[1;33m\u001b[0m\u001b[0m\n\u001b[0;32m    679\u001b[0m         \u001b[1;32mif\u001b[0m \u001b[1;32mnot\u001b[0m \u001b[0mlen\u001b[0m\u001b[1;33m(\u001b[0m\u001b[0minds\u001b[0m\u001b[1;33m)\u001b[0m\u001b[1;33m:\u001b[0m\u001b[1;33m\u001b[0m\u001b[1;33m\u001b[0m\u001b[0m\n\u001b[1;32m--> 680\u001b[1;33m             \u001b[1;32mraise\u001b[0m \u001b[0mKeyError\u001b[0m\u001b[1;33m(\u001b[0m\u001b[0mname\u001b[0m\u001b[1;33m)\u001b[0m\u001b[1;33m\u001b[0m\u001b[1;33m\u001b[0m\u001b[0m\n\u001b[0m\u001b[0;32m    681\u001b[0m \u001b[1;33m\u001b[0m\u001b[0m\n\u001b[0;32m    682\u001b[0m         \u001b[1;32mreturn\u001b[0m \u001b[0mobj\u001b[0m\u001b[1;33m.\u001b[0m\u001b[0mtake\u001b[0m\u001b[1;33m(\u001b[0m\u001b[0minds\u001b[0m\u001b[1;33m,\u001b[0m \u001b[0maxis\u001b[0m\u001b[1;33m=\u001b[0m\u001b[0mself\u001b[0m\u001b[1;33m.\u001b[0m\u001b[0maxis\u001b[0m\u001b[1;33m)\u001b[0m\u001b[1;33m\u001b[0m\u001b[1;33m\u001b[0m\u001b[0m\n",
      "\u001b[1;31mKeyError\u001b[0m: 0.0"
     ]
    }
   ],
   "source": [
    "def Q10_function(df):\n",
    "    \n",
    "    \"\"\"\n",
    "    :type : DataFrame\n",
    "    :rtype: list, int\n",
    "    \"\"\" \n",
    "    # TYPE YOUR CODE HERE\n",
    "    return sorted(list(df.groupby(['Q.5/12.00']).get_group(0.0)['id']) + list(df[df['Q.5/12.00'].isnull()]['id'])),\\\n",
    "    df.groupby(['Q.5/12.00']).get_group(12.0).count()['id']\n",
    "\n",
    "\n",
    "#     df['Q.5/12.00'] = df['Q.5/12.00'].fillna(0)\n",
    "#     df.loc[df['Q.5/12.00'] == '-', 'Q.5/12.00'] = 0\n",
    "#     df['Q.5/12.00'] = df['Q.5/12.00'].astype(float)\n",
    "    \n",
    "#     df_grouped = df.groupby(['Q.5/12.00']).count()\n",
    "    \n",
    "#     return list(df.loc[df['Q.5/12.00'] == 0, 'id']), df_grouped.iloc[6]['id']\n",
    "\n",
    "\n",
    "# Call the function and print the results\n",
    "zero, maximum = Q10_function(Q5_df)\n",
    "print(\"Students scoring zero :\",zero)\n",
    "print(\"Number of students with maximum score :\",maximum)"
   ]
  },
  {
   "cell_type": "markdown",
   "metadata": {
    "hideCode": false,
    "hidePrompt": true
   },
   "source": [
    "### Question 11: Find out who ('id') has scored the maximum combined score in the 'Tuples' and 'Taxonomy' quiz.\n",
    "\n",
    "* Use the `pd.merge()` function.\n",
    "* Call the function you wrote for Question 5 to convert time and remove spaces in columns (will be used in later questions).\n",
    "* Create a new column 'Total_score' which is the sum of the scores of the two quizzes."
   ]
  },
  {
   "cell_type": "code",
   "execution_count": 16,
   "metadata": {
    "hideCode": false,
    "hidePrompt": true
   },
   "outputs": [
    {
     "name": "stdout",
     "output_type": "stream",
     "text": [
      "Max scorer : 10\n"
     ]
    }
   ],
   "source": [
    "def Q11_function():\n",
    "    \n",
    "    \"\"\"\n",
    "    :type : None\n",
    "    :rtype: Dataframe, int\n",
    "    \"\"\" \n",
    "    # TYPE YOUR CODE HERE\n",
    "    \n",
    "    df_tuple = Q3_function(filenames,s = 'Tuples')\n",
    "    df_taxonomy = Q3_function(filenames, s = 'Taxonomy')\n",
    "    \n",
    "    cols_tuple,df_tuple = Q5_function(df_tuple)\n",
    "    cols_taxonomy,df_taxonomy = Q5_function(df_taxonomy)\n",
    "    \n",
    "    df_result = pd.merge (df_tuple, df_taxonomy, how = 'inner', on = 'id')\n",
    "    df_result['Total_score'] = df_result['Grade/20.00'] + df_result['Grade/21.00']\n",
    "    \n",
    "    max_scorer = df_result.loc[df_result['Total_score'].idxmax()]['id']\n",
    "    return(df_result,max_scorer)\n",
    "\n",
    "\n",
    "# Call the function and print the results. The DataFrame will be used in subsequent questions\n",
    "Q11_df,max_scorer = Q11_function()\n",
    "print(\"Max scorer :\",max_scorer)"
   ]
  },
  {
   "cell_type": "markdown",
   "metadata": {
    "hideCode": false,
    "hidePrompt": true
   },
   "source": [
    "### Question 12: Use the DataFrame generated in Question 11 and return the list of ids whose total time for both quizzes is less than than 20 minutes.\n",
    "\n",
    "* Sort the list before returning.\n",
    "* Can you code it in one line?"
   ]
  },
  {
   "cell_type": "code",
   "execution_count": 17,
   "metadata": {
    "hideCode": false,
    "hidePrompt": true
   },
   "outputs": [
    {
     "name": "stdout",
     "output_type": "stream",
     "text": [
      "ID of students : [3, 4, 7, 8, 12, 18]\n"
     ]
    }
   ],
   "source": [
    "def Q12_function(df):\n",
    "    \n",
    "    \"\"\"\n",
    "    :type : DataFrame\n",
    "    :rtype: list(int)\n",
    "    \"\"\" \n",
    "    # TYPE YOUR CODE HERE\n",
    "    \n",
    "    return sorted(list(df.loc[(df['time_x'] + df['time_y']) < 1200]['id']))\n",
    "    \n",
    "\n",
    "# Call the function and print the results.\n",
    "ids = Q12_function(Q11_df)\n",
    "print(\"ID of students :\",ids)"
   ]
  },
  {
   "cell_type": "markdown",
   "metadata": {
    "hideCode": false,
    "hidePrompt": true
   },
   "source": [
    "### Question 13: Discretize the column 'Grade/45.00' for the DataFrame generated in Question 6 and create a new column. Find the number of people (id) per bin. Return a DataFrame with only the bins and count per bin.\n",
    "\n",
    "*Hints:* \n",
    "* _Use 'cut' and 'groupby'._\n",
    "* _Include the overall average in the groupings._\n",
    "* _You won't need to use 'drop' to drop columns. Use groupby and check the result._\n",
    "* _Use 5 bins_\n",
    "* Don't consider 'Overall Average' row."
   ]
  },
  {
   "cell_type": "code",
   "execution_count": 18,
   "metadata": {
    "hideCode": false,
    "hidePrompt": true
   },
   "outputs": [
    {
     "name": "stdout",
     "output_type": "stream",
     "text": [
      "bins\n",
      "(12.981, 16.8]                 [15.0, 16.0, 17.0, 18.0]\n",
      "(16.8, 20.6]                         [12.0, 13.0, 14.0]\n",
      "(20.6, 24.4]      [5.0, 6.0, 7.0, 8.0, 9.0, 10.0, 11.0]\n",
      "(24.4, 28.2]                                 [3.0, 4.0]\n",
      "(28.2, 32.0]                            [0.0, 1.0, 2.0]\n",
      "Name: id, dtype: object\n"
     ]
    }
   ],
   "source": [
    "def Q13_function(df):\n",
    "    \n",
    "    \"\"\"\n",
    "    :type : DataFrame\n",
    "    :rtype: DataFrame\n",
    "    \"\"\"    \n",
    "    # TYPE YOUR CODE HEREk\n",
    "   \n",
    "\n",
    "    df = df[:-1]\n",
    "    df['bins'] = pd.cut(df['Grade/45.00'],5)\n",
    "    new_bins = df.groupby(['bins'])['id'].apply(list)\n",
    "    \n",
    "    return(new_bins)\n",
    "\n",
    "# Call the function and print the results.\n",
    "Q13_df = Q13_function(Q6_df)\n",
    "print(Q13_df)"
   ]
  },
  {
   "cell_type": "markdown",
   "metadata": {
    "hideCode": false,
    "hidePrompt": true
   },
   "source": [
    "### INSTRUCTIONS: Complete unit testing for the remaining functions to check correctness of your code."
   ]
  },
  {
   "cell_type": "code",
   "execution_count": 19,
   "metadata": {
    "hideCode": false,
    "hidePrompt": true
   },
   "outputs": [
    {
     "name": "stderr",
     "output_type": "stream",
     "text": [
      "test_Q01_function (__main__.TestNotebook) ... ok\n",
      "test_Q02_function (__main__.TestNotebook) ... ok\n",
      "test_Q03_function (__main__.TestNotebook) ... C:\\Users\\poorv\\Anaconda3\\lib\\site-packages\\xlrd\\xlsx.py:266: PendingDeprecationWarning: This method will be removed in future versions.  Use 'tree.iter()' or 'list(tree.iter())' instead.\n",
      "  for elem in self.tree.iter() if Element_has_iter else self.tree.getiterator():\n",
      "C:\\Users\\poorv\\Anaconda3\\lib\\site-packages\\xlrd\\xlsx.py:312: PendingDeprecationWarning: This method will be removed in future versions.  Use 'tree.iter()' or 'list(tree.iter())' instead.\n",
      "  for elem in self.tree.iter() if Element_has_iter else self.tree.getiterator():\n",
      "ok\n",
      "test_Q04_function (__main__.TestNotebook) ... ok\n",
      "test_Q05_function (__main__.TestNotebook) ... ok\n",
      "test_Q06_function (__main__.TestNotebook) ... C:\\Users\\poorv\\Anaconda3\\lib\\site-packages\\pandas\\core\\indexing.py:205: SettingWithCopyWarning: \n",
      "A value is trying to be set on a copy of a slice from a DataFrame\n",
      "\n",
      "See the caveats in the documentation: http://pandas.pydata.org/pandas-docs/stable/user_guide/indexing.html#returning-a-view-versus-a-copy\n",
      "  self._setitem_with_indexer(indexer, value)\n",
      "C:\\Users\\poorv\\Anaconda3\\lib\\site-packages\\ipykernel_launcher.py:20: SettingWithCopyWarning: \n",
      "A value is trying to be set on a copy of a slice from a DataFrame\n",
      "\n",
      "See the caveats in the documentation: http://pandas.pydata.org/pandas-docs/stable/user_guide/indexing.html#returning-a-view-versus-a-copy\n",
      "C:\\Users\\poorv\\Anaconda3\\lib\\site-packages\\ipykernel_launcher.py:52: FutureWarning: elementwise comparison failed; returning scalar instead, but in the future will perform elementwise comparison\n",
      "ok\n",
      "test_Q07_function (__main__.TestNotebook) ... ok\n",
      "test_Q08_function (__main__.TestNotebook) ... ok\n",
      "test_Q09_function (__main__.TestNotebook) ... ok\n",
      "test_Q10_function (__main__.TestNotebook) ... FAIL\n",
      "test_Q11_function (__main__.TestNotebook) ... ok\n",
      "test_Q12_function (__main__.TestNotebook) ... ok\n",
      "test_Q13_function (__main__.TestNotebook) ... C:\\Users\\poorv\\Anaconda3\\lib\\site-packages\\ipykernel_launcher.py:11: SettingWithCopyWarning: \n",
      "A value is trying to be set on a copy of a slice from a DataFrame.\n",
      "Try using .loc[row_indexer,col_indexer] = value instead\n",
      "\n",
      "See the caveats in the documentation: http://pandas.pydata.org/pandas-docs/stable/user_guide/indexing.html#returning-a-view-versus-a-copy\n",
      "  # This is added back by InteractiveShellApp.init_path()\n",
      "ok\n",
      "\n",
      "======================================================================\n",
      "FAIL: test_Q10_function (__main__.TestNotebook)\n",
      "----------------------------------------------------------------------\n",
      "Traceback (most recent call last):\n",
      "  File \"<ipython-input-19-6566157f6f1f>\", line 82, in test_Q10_function\n",
      "    self.assertEqual((zero_ans, max_ans), (zero, maximum))\n",
      "AssertionError: Tuples differ: ([9, 10, 13, 17, 18], 2) != ([13, 18], 2)\n",
      "\n",
      "First differing element 0:\n",
      "[9, 10, 13, 17, 18]\n",
      "[13, 18]\n",
      "\n",
      "- ([9, 10, 13, 17, 18], 2)\n",
      "+ ([13, 18], 2)\n",
      "\n",
      "----------------------------------------------------------------------\n",
      "Ran 13 tests in 0.209s\n",
      "\n",
      "FAILED (failures=1)\n"
     ]
    },
    {
     "data": {
      "text/plain": [
       "<unittest.main.TestProgram at 0x1fb1404f288>"
      ]
     },
     "execution_count": 19,
     "metadata": {},
     "output_type": "execute_result"
    }
   ],
   "source": [
    "import unittest\n",
    "\n",
    "class TestNotebook(unittest.TestCase):\n",
    "    \n",
    "    def test_Q01_function(self):\n",
    "        ans = ['./data_raw\\\\Python-QUIZ Coercion (6 min.)-grades.xlsx', './data_raw\\\\Python-QUIZ Conditionals (6 min.)-grades.xlsx', './data_raw\\\\Python-QUIZ Dictionaries (10 min.)-grades.xlsx', './data_raw\\\\Python-QUIZ Exceptions (10 min.)-grades.xlsx', './data_raw\\\\Python-QUIZ Functions (18 min.)-grades.xlsx', './data_raw\\\\Python-QUIZ Iterations (6 min.)-grades.xlsx', './data_raw\\\\Python-QUIZ Lists (10 min.)-grades.xlsx', './data_raw\\\\Python-QUIZ Sets (7 min)-grades.xlsx', './data_raw\\\\Python-QUIZ Strings (5 min.)-grades.xlsx', './data_raw\\\\Python-QUIZ Taxonomy of Python Data Structures (12 min.)-grades.xlsx', './data_raw\\\\Python-QUIZ Tuples (10 min.)-grades.xlsx', './data_raw\\\\~$Python-QUIZ Taxonomy of Python Data Structures (12 min.)-grades.xlsx']\n",
    "        result = Q1_function()\n",
    "        self.assertEqual(ans,result)\n",
    "\n",
    "    def test_Q02_function(self):\n",
    "        \n",
    "        ans='Python-QUIZ Lists (10 min.)-grades.xlsx'\n",
    "        \n",
    "        result=Q2_function(filenames, s = \"Lists\")\n",
    "        \n",
    "        #Handling removal of the path to check only filename\n",
    "        self.assertEqual(ans,result.split(\"/\")[-1].split(\"\\\\\")[-1])\n",
    "        \n",
    "    def test_Q03_function(self):\n",
    "        columns = ['State', 'Started on', 'Completed', 'Time taken', 'Grade/45.00', 'Q. 1 /5.00', 'Q. 2 /10.00', 'Q. 3 /6.00', 'Q. 4 /6.00', 'Q. 5 /12.00', 'Q. 6 /6.00', 'id']\n",
    "        df = Q3_function(filenames, s = \"Functions\")\n",
    "        result_columns = list(df.columns)\n",
    "        \n",
    "        nrow = df.shape[0]\n",
    "        ncol = df.shape[1]\n",
    "        row = 24\n",
    "        col = 12\n",
    "        \n",
    "        self.assertEqual((columns, nrow, ncol), (result_columns, row, col)) \n",
    "\n",
    "        \n",
    "    def test_Q04_function(self):\n",
    "        \n",
    "        cols_ans=['State', 'Started on', 'Completed', 'Time taken', 'Grade/45.00', 'Q. 1 /5.00', 'Q. 2 /10.00', 'Q. 3 /6.00', 'Q. 4 /6.00', 'Q. 5 /12.00', 'Q. 6 /6.00',  'id']\n",
    "        subset_cols_ans= [\"id\", \"Time taken\", \"Grade/45.00\", \"Q. 1 /5.00\", \"Q. 2 /10.00\", \"Q. 3 /6.00\", \"Q. 4 /6.00\", \"Q. 5 /12.00\", \"Q. 6 /6.00\"]\n",
    "        top_ans=10\n",
    "        \n",
    "        cols_result,subset_result,top_result=Q4_function(functions_df)\n",
    "\n",
    "        self.assertEqual(cols_ans,list(cols_result))\n",
    "        self.assertEqual(subset_cols_ans,list(subset_result.columns))\n",
    "        self.assertEqual(top_ans,len(top_result)) \n",
    "\n",
    "    \n",
    "    def test_Q05_function(self):\n",
    "        cols_type = ['int64', 'object', 'int64', 'int64', 'int64', 'int64', 'object', 'object', 'object', 'int64']\n",
    "        cols_result,df_result = Q5_function(df_subset) \n",
    "        self.assertEqual(cols_type,(cols_result))\n",
    "\n",
    "    def test_Q06_function(self):\n",
    "        df = Q6_function(Q5_df)\n",
    "        empty = '-' in df.values or np.nan in df.values\n",
    "        \n",
    "        duplicate_bool = df.duplicated()\n",
    "        duplicate = True in list(duplicate_bool)\n",
    "        \n",
    "        mean_row = [19.0,21.631579,4.315789,5.368421,4.894737,2.011080,4.842105,1.046053,1125.105263]\n",
    "        result_mean_row = list(df.iloc[-1])\n",
    "        \n",
    "        self.assertEqual((duplicate, empty), (False, False))\n",
    "        \n",
    "    \n",
    "    def test_Q07_function(self):\n",
    "        \n",
    "        ans=(14.83,2.19,13.46,14.66,16.62,18.5,10.83) \n",
    "        result=Q7_function(file=\"Exceptions\")\n",
    "        self.assertEqual(ans, result)\n",
    "        \n",
    "    def test_Q08_function(self):\n",
    "        pass\n",
    "        \n",
    "    def test_Q09_function(self):\n",
    "        nrows = 17\n",
    "        ncols = 7\n",
    "        rows, columns = Q9_function (file='Strings')\n",
    "        self.assertEqual((nrows, ncols), (rows, columns))\n",
    "        \n",
    "    def test_Q10_function(self):\n",
    "        zero_ans = [9, 10, 13, 17, 18]\n",
    "        max_ans = 2\n",
    "        zero, maximum = Q10_function(Q5_df)\n",
    "        self.assertEqual((zero_ans, max_ans), (zero, maximum))\n",
    "\n",
    "    def test_Q11_function(self):\n",
    "        max_scorer_ans = 10\n",
    "        df, max_scorer = Q11_function()\n",
    "        self.assertEqual((max_scorer_ans), max_scorer)\n",
    "\n",
    "        \n",
    "    def test_Q12_function(self):\n",
    "        ans=[3, 4, 7, 8, 12, 18]   \n",
    "        result=Q12_function(Q11_df)\n",
    "        self.assertEqual(ans, result)\n",
    "        \n",
    "    def test_Q13_function(self):\n",
    "        ans = [[15, 16, 17, 18], [12, 13, 14], [5, 6, 7, 8, 9, 10, 11], [3, 4], [0, 1, 2]]\n",
    "        temp = Q13_function(Q6_df)\n",
    "        result = [temp.iloc[x] for x in range(len(temp))]\n",
    "        \n",
    "        for x in range(len(ans)):\n",
    "            self.assertEqual(sum(result[x]), sum(ans[x]))\n",
    "\n",
    "        \n",
    "unittest.main(argv=[''], verbosity=2, exit=False)"
   ]
  },
  {
   "cell_type": "code",
   "execution_count": null,
   "metadata": {},
   "outputs": [],
   "source": []
  }
 ],
 "metadata": {
  "celltoolbar": "Hide code",
  "hide_code_all_hidden": true,
  "kernelspec": {
   "display_name": "Python 3",
   "language": "python",
   "name": "python3"
  },
  "language_info": {
   "codemirror_mode": {
    "name": "ipython",
    "version": 3
   },
   "file_extension": ".py",
   "mimetype": "text/x-python",
   "name": "python",
   "nbconvert_exporter": "python",
   "pygments_lexer": "ipython3",
   "version": "3.7.4"
  }
 },
 "nbformat": 4,
 "nbformat_minor": 2
}
